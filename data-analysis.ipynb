{
 "cells": [
  {
   "cell_type": "markdown",
   "id": "a0fb77b6",
   "metadata": {},
   "source": [
    "DATA ANALYSIS"
   ]
  },
  {
   "cell_type": "code",
   "execution_count": 9,
   "id": "2e84152f",
   "metadata": {},
   "outputs": [
    {
     "name": "stdout",
     "output_type": "stream",
     "text": [
      "First 5 rows:\n",
      "      Reviewer ID Product Purchased Customer Name  \\\n",
      "0  A3SBTW3WS4IQSN        B007WTAJTO           NaN   \n",
      "1  A18K1ODH1I2MVB        B007WTAJTO          0mie   \n",
      "2  A2FII3I2MBMUIA        B007WTAJTO           1K3   \n",
      "3   A3H99DFEG68SR        B007WTAJTO           1m2   \n",
      "4  A375ZM4U047O79        B007WTAJTO  2&amp;1/2Men   \n",
      "\n",
      "                                         Review Text  Rating  \n",
      "0                                         No issues.       4  \n",
      "1  Purchased this for my device, it worked as adv...       5  \n",
      "2  it works as expected. I should have sprung for...       4  \n",
      "3  This think has worked out great.Had a diff. br...       5  \n",
      "4  Bought it with Retail Packaging, arrived legit...       5  \n",
      "\n",
      "Column names:\n",
      "Index(['Reviewer ID', 'Product Purchased', 'Customer Name', 'Review Text',\n",
      "       'Rating'],\n",
      "      dtype='object')\n",
      "\n",
      "Shape of dataset: (4915, 5)\n"
     ]
    }
   ],
   "source": [
    "# step1_load.py\n",
    "\n",
    "import pandas as pd\n",
    "\n",
    "# Load your dataset\n",
    "df = pd.read_csv(\"amazon_reviews.csv\")\n",
    "\n",
    "# Show first few rows\n",
    "print(\"First 5 rows:\")\n",
    "print(df.head())\n",
    "\n",
    "# Show column names\n",
    "print(\"\\nColumn names:\")\n",
    "print(df.columns)\n",
    "\n",
    "# Show dataset shape\n",
    "print(\"\\nShape of dataset:\", df.shape)\n"
   ]
  },
  {
   "cell_type": "code",
   "execution_count": null,
   "id": "2b7473e5",
   "metadata": {},
   "outputs": [],
   "source": []
  }
 ],
 "metadata": {
  "kernelspec": {
   "display_name": "Python 3",
   "language": "python",
   "name": "python3"
  },
  "language_info": {
   "codemirror_mode": {
    "name": "ipython",
    "version": 3
   },
   "file_extension": ".py",
   "mimetype": "text/x-python",
   "name": "python",
   "nbconvert_exporter": "python",
   "pygments_lexer": "ipython3",
   "version": "3.11.9"
  }
 },
 "nbformat": 4,
 "nbformat_minor": 5
}
