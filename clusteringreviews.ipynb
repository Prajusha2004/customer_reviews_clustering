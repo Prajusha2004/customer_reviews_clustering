{
 "cells": [
  {
   "cell_type": "code",
   "execution_count": 4,
   "id": "d7f52690",
   "metadata": {},
   "outputs": [
    {
     "ename": "ModuleNotFoundError",
     "evalue": "No module named 'sklearn'",
     "output_type": "error",
     "traceback": [
      "\u001b[31m---------------------------------------------------------------------------\u001b[39m",
      "\u001b[31mModuleNotFoundError\u001b[39m                       Traceback (most recent call last)",
      "\u001b[36mCell\u001b[39m\u001b[36m \u001b[39m\u001b[32mIn[4]\u001b[39m\u001b[32m, line 4\u001b[39m\n\u001b[32m      1\u001b[39m \u001b[38;5;66;03m#importing necessary libraries\u001b[39;00m\n\u001b[32m      2\u001b[39m \u001b[38;5;66;03m#downloading necessary NLTK resources\u001b[39;00m\n\u001b[32m----> \u001b[39m\u001b[32m4\u001b[39m \u001b[38;5;28;01mimport\u001b[39;00m\u001b[38;5;250m \u001b[39m\u001b[34;01msklearn\u001b[39;00m\n\u001b[32m      5\u001b[39m \u001b[38;5;28mprint\u001b[39m(sklearn.__version__)\n\u001b[32m      8\u001b[39m \u001b[38;5;28;01mimport\u001b[39;00m\u001b[38;5;250m \u001b[39m\u001b[34;01mpandas\u001b[39;00m\u001b[38;5;250m \u001b[39m\u001b[38;5;28;01mas\u001b[39;00m\u001b[38;5;250m \u001b[39m\u001b[34;01mpd\u001b[39;00m \n",
      "\u001b[31mModuleNotFoundError\u001b[39m: No module named 'sklearn'"
     ]
    }
   ],
   "source": [
    "#importing necessary libraries\n",
    "#downloading necessary NLTK resources\n",
    "\n",
    "import sklearn\n",
    "print(sklearn.__version__)\n",
    "\n",
    "\n",
    "import pandas as pd \n",
    "import numpy as np \n",
    "import re\n",
    "import nltk\n",
    "from nltk.corpus import stopwords \n",
    "from nltk.stem import WordNetLemmatizer\n",
    "from sklearn.feature_extraction.text import TfidfVectorizer \n",
    "\n",
    "nltk.download('punkt')\n",
    "nltk.download('stopwords')\n",
    "nltk.download('wordnet')\n",
    "nltk.download('punkt_tab') "
   ]
  },
  {
   "cell_type": "code",
   "execution_count": null,
   "id": "d83971eb",
   "metadata": {},
   "outputs": [
    {
     "name": "stdout",
     "output_type": "stream",
     "text": [
      "Current Working Directory: c:\\Users\\praju\\OneDrive\\Desktop\\customer_reviews_clustering\n"
     ]
    }
   ],
   "source": [
    "import os\n",
    "print(\"Current Working Directory:\", os.getcwd())\n"
   ]
  },
  {
   "cell_type": "code",
   "execution_count": null,
   "id": "6103549a",
   "metadata": {},
   "outputs": [
    {
     "data": {
      "text/html": [
       "<div>\n",
       "<style scoped>\n",
       "    .dataframe tbody tr th:only-of-type {\n",
       "        vertical-align: middle;\n",
       "    }\n",
       "\n",
       "    .dataframe tbody tr th {\n",
       "        vertical-align: top;\n",
       "    }\n",
       "\n",
       "    .dataframe thead th {\n",
       "        text-align: right;\n",
       "    }\n",
       "</style>\n",
       "<table border=\"1\" class=\"dataframe\">\n",
       "  <thead>\n",
       "    <tr style=\"text-align: right;\">\n",
       "      <th></th>\n",
       "      <th>Reviewer ID</th>\n",
       "      <th>Product Purchased</th>\n",
       "      <th>Customer Name</th>\n",
       "      <th>Review Text</th>\n",
       "      <th>Rating</th>\n",
       "    </tr>\n",
       "  </thead>\n",
       "  <tbody>\n",
       "    <tr>\n",
       "      <th>0</th>\n",
       "      <td>A3SBTW3WS4IQSN</td>\n",
       "      <td>B007WTAJTO</td>\n",
       "      <td>NaN</td>\n",
       "      <td>No issues.</td>\n",
       "      <td>4</td>\n",
       "    </tr>\n",
       "    <tr>\n",
       "      <th>1</th>\n",
       "      <td>A18K1ODH1I2MVB</td>\n",
       "      <td>B007WTAJTO</td>\n",
       "      <td>0mie</td>\n",
       "      <td>Purchased this for my device, it worked as adv...</td>\n",
       "      <td>5</td>\n",
       "    </tr>\n",
       "    <tr>\n",
       "      <th>2</th>\n",
       "      <td>A2FII3I2MBMUIA</td>\n",
       "      <td>B007WTAJTO</td>\n",
       "      <td>1K3</td>\n",
       "      <td>it works as expected. I should have sprung for...</td>\n",
       "      <td>4</td>\n",
       "    </tr>\n",
       "    <tr>\n",
       "      <th>3</th>\n",
       "      <td>A3H99DFEG68SR</td>\n",
       "      <td>B007WTAJTO</td>\n",
       "      <td>1m2</td>\n",
       "      <td>This think has worked out great.Had a diff. br...</td>\n",
       "      <td>5</td>\n",
       "    </tr>\n",
       "    <tr>\n",
       "      <th>4</th>\n",
       "      <td>A375ZM4U047O79</td>\n",
       "      <td>B007WTAJTO</td>\n",
       "      <td>2&amp;amp;1/2Men</td>\n",
       "      <td>Bought it with Retail Packaging, arrived legit...</td>\n",
       "      <td>5</td>\n",
       "    </tr>\n",
       "    <tr>\n",
       "      <th>...</th>\n",
       "      <td>...</td>\n",
       "      <td>...</td>\n",
       "      <td>...</td>\n",
       "      <td>...</td>\n",
       "      <td>...</td>\n",
       "    </tr>\n",
       "    <tr>\n",
       "      <th>4910</th>\n",
       "      <td>A2LBMKXRM5H2W9</td>\n",
       "      <td>B007WTAJTO</td>\n",
       "      <td>ZM \"J\"</td>\n",
       "      <td>I bought this Sandisk 16GB Class 10 to use wit...</td>\n",
       "      <td>1</td>\n",
       "    </tr>\n",
       "    <tr>\n",
       "      <th>4911</th>\n",
       "      <td>ALGDLRUI1ZPCS</td>\n",
       "      <td>B007WTAJTO</td>\n",
       "      <td>Zo</td>\n",
       "      <td>Used this for extending the capabilities of my...</td>\n",
       "      <td>5</td>\n",
       "    </tr>\n",
       "    <tr>\n",
       "      <th>4912</th>\n",
       "      <td>A2MR1NI0ENW2AD</td>\n",
       "      <td>B007WTAJTO</td>\n",
       "      <td>Z S Liske</td>\n",
       "      <td>Great card that is very fast and reliable. It ...</td>\n",
       "      <td>5</td>\n",
       "    </tr>\n",
       "    <tr>\n",
       "      <th>4913</th>\n",
       "      <td>A37E6P3DSO9QJD</td>\n",
       "      <td>B007WTAJTO</td>\n",
       "      <td>Z Taylor</td>\n",
       "      <td>Good amount of space for the stuff I want to d...</td>\n",
       "      <td>5</td>\n",
       "    </tr>\n",
       "    <tr>\n",
       "      <th>4914</th>\n",
       "      <td>A8KGFTFQ86IBR</td>\n",
       "      <td>B007WTAJTO</td>\n",
       "      <td>Zza</td>\n",
       "      <td>I've heard bad things about this 64gb Micro SD...</td>\n",
       "      <td>5</td>\n",
       "    </tr>\n",
       "  </tbody>\n",
       "</table>\n",
       "<p>4915 rows × 5 columns</p>\n",
       "</div>"
      ],
      "text/plain": [
       "         Reviewer ID Product Purchased Customer Name  \\\n",
       "0     A3SBTW3WS4IQSN        B007WTAJTO           NaN   \n",
       "1     A18K1ODH1I2MVB        B007WTAJTO          0mie   \n",
       "2     A2FII3I2MBMUIA        B007WTAJTO           1K3   \n",
       "3      A3H99DFEG68SR        B007WTAJTO           1m2   \n",
       "4     A375ZM4U047O79        B007WTAJTO  2&amp;1/2Men   \n",
       "...              ...               ...           ...   \n",
       "4910  A2LBMKXRM5H2W9        B007WTAJTO        ZM \"J\"   \n",
       "4911   ALGDLRUI1ZPCS        B007WTAJTO            Zo   \n",
       "4912  A2MR1NI0ENW2AD        B007WTAJTO     Z S Liske   \n",
       "4913  A37E6P3DSO9QJD        B007WTAJTO      Z Taylor   \n",
       "4914   A8KGFTFQ86IBR        B007WTAJTO           Zza   \n",
       "\n",
       "                                            Review Text  Rating  \n",
       "0                                            No issues.       4  \n",
       "1     Purchased this for my device, it worked as adv...       5  \n",
       "2     it works as expected. I should have sprung for...       4  \n",
       "3     This think has worked out great.Had a diff. br...       5  \n",
       "4     Bought it with Retail Packaging, arrived legit...       5  \n",
       "...                                                 ...     ...  \n",
       "4910  I bought this Sandisk 16GB Class 10 to use wit...       1  \n",
       "4911  Used this for extending the capabilities of my...       5  \n",
       "4912  Great card that is very fast and reliable. It ...       5  \n",
       "4913  Good amount of space for the stuff I want to d...       5  \n",
       "4914  I've heard bad things about this 64gb Micro SD...       5  \n",
       "\n",
       "[4915 rows x 5 columns]"
      ]
     },
     "execution_count": 17,
     "metadata": {},
     "output_type": "execute_result"
    }
   ],
   "source": [
    "#Loading the dataset and creating a dataframe\n",
    "df = pd.read_csv(\"amazon_reviews.csv\")\n",
    "df"
   ]
  },
  {
   "cell_type": "code",
   "execution_count": null,
   "id": "34f33a2e",
   "metadata": {},
   "outputs": [
    {
     "name": "stdout",
     "output_type": "stream",
     "text": [
      "Cleaned dataset shape: (4912, 2)\n"
     ]
    },
    {
     "data": {
      "text/plain": [
       "0                                           No issues.\n",
       "1    Purchased this for my device, it worked as adv...\n",
       "2    it works as expected. I should have sprung for...\n",
       "3    This think has worked out great.Had a diff. br...\n",
       "4    Bought it with Retail Packaging, arrived legit...\n",
       "Name: Review Text, dtype: object"
      ]
     },
     "execution_count": 12,
     "metadata": {},
     "output_type": "execute_result"
    }
   ],
   "source": [
    "# Keep only relevant columns (review text + rating)\n",
    "df = df[[\"Review Text\", \"Rating\"]]\n",
    "\n",
    "# Dropping missing values\n",
    "df.dropna(inplace=True)\n",
    "\n",
    "# Extracting reviews column as text\n",
    "reviews = df[\"Review Text\"].astype(str)\n",
    "\n",
    "print(\"Cleaned dataset shape:\", df.shape)\n",
    "reviews.head()\n"
   ]
  },
  {
   "cell_type": "code",
   "execution_count": null,
   "id": "22264695",
   "metadata": {},
   "outputs": [
    {
     "name": "stdout",
     "output_type": "stream",
     "text": [
      "Sample cleaned review:\n",
      " issue\n"
     ]
    }
   ],
   "source": [
    "lemmatizer = WordNetLemmatizer()\n",
    "stop_words = set(stopwords.words(\"english\"))\n",
    "\n",
    "def clean_text(text):\n",
    "    # Lowercase\n",
    "    text = text.lower()\n",
    "    # Remove punctuation, numbers, special characters\n",
    "    text = re.sub(r'[^a-z\\s]', '', text)\n",
    "    # Tokenize\n",
    "    tokens = nltk.word_tokenize(text)\n",
    "    # Remove stopwords + Lemmatize\n",
    "    tokens = [lemmatizer.lemmatize(word) for word in tokens if word not in stop_words]\n",
    "    return \" \".join(tokens)\n",
    "\n",
    "# Apply cleaning\n",
    "cleaned_reviews = reviews.apply(clean_text)\n",
    "\n",
    "print(\"Sample cleaned review:\\n\", cleaned_reviews.iloc[0])\n"
   ]
  },
  {
   "cell_type": "code",
   "execution_count": null,
   "id": "3e0665d0",
   "metadata": {},
   "outputs": [
    {
     "name": "stdout",
     "output_type": "stream",
     "text": [
      "TF-IDF Matrix shape: (4912, 1000)\n"
     ]
    }
   ],
   "source": [
    "# Convert text into numerical form\n",
    "vectorizer = TfidfVectorizer(max_features=1000)  # adjust max_features if needed\n",
    "X = vectorizer.fit_transform(cleaned_reviews)\n",
    "\n",
    "print(\"TF-IDF Matrix shape:\", X.shape)\n",
    "\n"
   ]
  },
  {
   "cell_type": "markdown",
   "id": "2d303640",
   "metadata": {},
   "source": [
    "DATA ANALYSIS\n"
   ]
  },
  {
   "cell_type": "code",
   "execution_count": 5,
   "id": "4f3a2b58",
   "metadata": {},
   "outputs": [
    {
     "name": "stdout",
     "output_type": "stream",
     "text": [
      "First 5 rows:\n",
      "      Reviewer ID Product Purchased Customer Name  \\\n",
      "0  A3SBTW3WS4IQSN        B007WTAJTO           NaN   \n",
      "1  A18K1ODH1I2MVB        B007WTAJTO          0mie   \n",
      "2  A2FII3I2MBMUIA        B007WTAJTO           1K3   \n",
      "3   A3H99DFEG68SR        B007WTAJTO           1m2   \n",
      "4  A375ZM4U047O79        B007WTAJTO  2&amp;1/2Men   \n",
      "\n",
      "                                         Review Text  Rating  \n",
      "0                                         No issues.       4  \n",
      "1  Purchased this for my device, it worked as adv...       5  \n",
      "2  it works as expected. I should have sprung for...       4  \n",
      "3  This think has worked out great.Had a diff. br...       5  \n",
      "4  Bought it with Retail Packaging, arrived legit...       5  \n",
      "\n",
      "Column names:\n",
      "Index(['Reviewer ID', 'Product Purchased', 'Customer Name', 'Review Text',\n",
      "       'Rating'],\n",
      "      dtype='object')\n",
      "\n",
      "Shape of dataset: (4915, 5)\n"
     ]
    }
   ],
   "source": [
    "# step1_load.py\n",
    "\n",
    "import pandas as pd\n",
    "\n",
    "# Load your dataset\n",
    "df = pd.read_csv(\"amazon_reviews.csv\")\n",
    "\n",
    "# Show first few rows\n",
    "print(\"First 5 rows:\")\n",
    "print(df.head())\n",
    "\n",
    "# Show column names\n",
    "print(\"\\nColumn names:\")\n",
    "print(df.columns)\n",
    "\n",
    "# Show dataset shape\n",
    "print(\"\\nShape of dataset:\", df.shape)\n"
   ]
  },
  {
   "cell_type": "markdown",
   "id": "e3bc10f2",
   "metadata": {},
   "source": [
    "RATING DISTRIBUTION\n"
   ]
  },
  {
   "cell_type": "code",
   "execution_count": 6,
   "id": "178176fc",
   "metadata": {},
   "outputs": [
    {
     "name": "stdout",
     "output_type": "stream",
     "text": [
      "Index(['Reviewer ID', 'Product Purchased', 'Customer Name', 'Review Text',\n",
      "       'Rating'],\n",
      "      dtype='object')\n"
     ]
    }
   ],
   "source": [
    "import pandas as pd\n",
    "\n",
    "df = pd.read_csv(\"amazon_reviews.csv\")\n",
    "print(df.columns)\n",
    "\n"
   ]
  },
  {
   "cell_type": "code",
   "execution_count": 7,
   "id": "75bca4dc",
   "metadata": {},
   "outputs": [
    {
     "data": {
      "image/png": "[encoded data removed]",
      "text/plain": [
       "<Figure size 600x400 with 1 Axes>"
      ]
     },
     "metadata": {},
     "output_type": "display_data"
    },
    {
     "data": {
      "image/png": "[encoded data removed]",
      "text/plain": [
       "<Figure size 400x500 with 1 Axes>"
      ]
     },
     "metadata": {},
     "output_type": "display_data"
    },
    {
     "name": "stdout",
     "output_type": "stream",
     "text": [
      "✅ Saved plots: ratings_histogram.png and ratings_boxplot.png\n"
     ]
    }
   ],
   "source": [
    "# ratings_distribution.py\n",
    "\n",
    "import pandas as pd\n",
    "import matplotlib.pyplot as plt\n",
    "\n",
    "# Load dataset\n",
    "df = pd.read_csv(\"amazon_reviews.csv\")\n",
    "\n",
    "# Use the 'Rating' column for ratings (numeric)\n",
    "ratings = pd.to_numeric(df[\"Rating\"], errors=\"coerce\")\n",
    "\n",
    "# --- Histogram of ratings ---\n",
    "plt.figure(figsize=(6,4))\n",
    "ratings.plot(kind=\"hist\", bins=20, edgecolor=\"black\")\n",
    "plt.title(\"Distribution of Ratings\")\n",
    "plt.xlabel(\"Rating\")\n",
    "plt.ylabel(\"Count\")\n",
    "plt.tight_layout()\n",
    "plt.savefig(\"ratings_histogram.png\")   # save plot\n",
    "plt.show()\n",
    "\n",
    "# --- Boxplot of ratings ---\n",
    "plt.figure(figsize=(4,5))\n",
    "plt.boxplot(ratings.dropna(), vert=True)\n",
    "plt.title(\"Ratings Boxplot\")\n",
    "plt.ylabel(\"Rating\")\n",
    "plt.tight_layout()\n",
    "plt.savefig(\"ratings_boxplot.png\")     # save plot\n",
    "plt.show()\n",
    "\n",
    "print(\"✅ Saved plots: ratings_histogram.png and ratings_boxplot.png\")\n"
   ]
  },
  {
   "cell_type": "markdown",
   "id": "f6e47963",
   "metadata": {},
   "source": [
    "PRODUCT_DISTRIBUTION \n"
   ]
  },
  {
   "cell_type": "code",
   "execution_count": 8,
   "id": "d5e4db0b",
   "metadata": {},
   "outputs": [
    {
     "name": "stdout",
     "output_type": "stream",
     "text": [
      "✅ Top 10 Most Reviewed Products:\n",
      "Product Purchased\n",
      "B007WTAJTO    4915\n",
      "Name: count, dtype: int64\n"
     ]
    },
    {
     "data": {
      "image/png": "[encoded data removed]",
      "text/plain": [
       "<Figure size 1000x600 with 1 Axes>"
      ]
     },
     "metadata": {},
     "output_type": "display_data"
    },
    {
     "name": "stdout",
     "output_type": "stream",
     "text": [
      "✅ Saved plot: top_products.png\n"
     ]
    }
   ],
   "source": [
    "# step3_product_distribution.py\n",
    "\n",
    "import pandas as pd\n",
    "import matplotlib.pyplot as plt\n",
    "\n",
    "# Load dataset\n",
    "df = pd.read_csv(\"amazon_reviews.csv\")\n",
    "\n",
    "# Count number of reviews per product\n",
    "product_counts = df[\"Product Purchased\"].value_counts().head(10)  # Top 10 products\n",
    "\n",
    "# --- Print top products ---\n",
    "print(\"✅ Top 10 Most Reviewed Products:\")\n",
    "print(product_counts)\n",
    "\n",
    "# --- Bar chart of top products ---\n",
    "plt.figure(figsize=(10,6))\n",
    "product_counts.plot(kind=\"bar\")\n",
    "plt.title(\"Top 10 Most Reviewed Products\")\n",
    "plt.xlabel(\"Product\")\n",
    "plt.ylabel(\"Number of Reviews\")\n",
    "plt.xticks(rotation=45, ha=\"right\")\n",
    "plt.tight_layout()\n",
    "plt.savefig(\"top_products.png\")\n",
    "plt.show()\n",
    "\n",
    "print(\"✅ Saved plot: top_products.png\")\n"
   ]
  },
  {
   "cell_type": "markdown",
   "id": "1dcb9d8f",
   "metadata": {},
   "source": [
    "WORD FREQUENCY COUNT\n"
   ]
  },
  {
   "cell_type": "code",
   "execution_count": 9,
   "id": "47cacfd2",
   "metadata": {},
   "outputs": [
    {
     "name": "stderr",
     "output_type": "stream",
     "text": [
      "[nltk_data] Downloading package stopwords to\n",
      "[nltk_data]     C:\\Users\\hp\\AppData\\Roaming\\nltk_data...\n",
      "[nltk_data]   Package stopwords is already up-to-date!\n"
     ]
    },
    {
     "data": {
      "text/plain": [
       "True"
      ]
     },
     "execution_count": 9,
     "metadata": {},
     "output_type": "execute_result"
    }
   ],
   "source": [
    "import nltk\n",
    "nltk.download(\"stopwords\")"
   ]
  },
  {
   "cell_type": "code",
   "execution_count": 10,
   "id": "dd428560",
   "metadata": {},
   "outputs": [],
   "source": [
    "#word_frequency.ipynb\n",
    "\n",
    "import pandas as pd\n",
    "import matplotlib.pyplot as plt\n",
    "from collections import Counter\n",
    "import re\n",
    "import nltk\n",
    "from nltk.corpus import stopwords"
   ]
  },
  {
   "cell_type": "code",
   "execution_count": 11,
   "id": "63df857b",
   "metadata": {},
   "outputs": [],
   "source": [
    "# Load dataset\n",
    "df = pd.read_csv(\"amazon_reviews.csv\")"
   ]
  },
  {
   "cell_type": "code",
   "execution_count": 12,
   "id": "0516cb18",
   "metadata": {},
   "outputs": [],
   "source": [
    "# Use 'Review Text' column, drop NaN\n",
    "reviews = df[\"Review Text\"].dropna().astype(str)"
   ]
  },
  {
   "cell_type": "code",
   "execution_count": 13,
   "id": "11325676",
   "metadata": {},
   "outputs": [],
   "source": [
    "# Combine all reviews into one string\n",
    "all_text = \" \".join(reviews).lower()"
   ]
  },
  {
   "cell_type": "code",
   "execution_count": 14,
   "id": "b4e348ca",
   "metadata": {},
   "outputs": [],
   "source": [
    "# Remove punctuation and non-alphabetic characters\n",
    "all_text = re.sub(r\"[^a-z\\s]\", \"\", all_text)"
   ]
  },
  {
   "cell_type": "code",
   "execution_count": 15,
   "id": "0a489e9c",
   "metadata": {},
   "outputs": [],
   "source": [
    "# Tokenize words\n",
    "words = all_text.split()\n"
   ]
  },
  {
   "cell_type": "code",
   "execution_count": 16,
   "id": "d0da1596",
   "metadata": {},
   "outputs": [],
   "source": [
    "# Remove stopwords (like 'the', 'is', 'and')\n",
    "stop_words = set(stopwords.words(\"english\"))\n",
    "filtered_words = [w for w in words if w not in stop_words and len(w) > 2]"
   ]
  },
  {
   "cell_type": "code",
   "execution_count": 17,
   "id": "cc1c086d",
   "metadata": {},
   "outputs": [],
   "source": [
    "# Count word frequencies\n",
    "word_counts = Counter(filtered_words)\n",
    "common_words = word_counts.most_common(20)  # top 20 words"
   ]
  },
  {
   "cell_type": "code",
   "execution_count": 18,
   "id": "d9bfa620",
   "metadata": {},
   "outputs": [],
   "source": [
    "# Convert to DataFrame for plotting\n",
    "wc_df = pd.DataFrame(common_words, columns=[\"word\", \"count\"])"
   ]
  },
  {
   "cell_type": "code",
   "execution_count": 19,
   "id": "1d6df81d",
   "metadata": {},
   "outputs": [
    {
     "data": {
      "image/png": "[encoded data removed]",
      "text/plain": [
       "<Figure size 1000x600 with 1 Axes>"
      ]
     },
     "metadata": {},
     "output_type": "display_data"
    },
    {
     "name": "stdout",
     "output_type": "stream",
     "text": [
      "✅ Saved word frequency plot as word_frequency.png\n"
     ]
    }
   ],
   "source": [
    "# --- Plot word frequency ---\n",
    "plt.figure(figsize=(10,6))\n",
    "plt.bar(wc_df[\"word\"], wc_df[\"count\"], color=\"skyblue\")\n",
    "plt.xticks(rotation=45, ha=\"right\")\n",
    "plt.title(\"Top 20 Frequent Words in Reviews\")\n",
    "plt.xlabel(\"Words\")\n",
    "plt.ylabel(\"Frequency\")\n",
    "plt.tight_layout()\n",
    "plt.savefig(\"word_frequency.png\")\n",
    "plt.show()\n",
    "\n",
    "print(\"✅ Saved word frequency plot as word_frequency.png\")"
   ]
  },
  {
   "cell_type": "markdown",
   "id": "4f85d9e1",
   "metadata": {},
   "source": [
    "INSIGHTS FROM EDA\n"
   ]
  },
  {
   "cell_type": "code",
   "execution_count": 20,
   "id": "34257bb7",
   "metadata": {},
   "outputs": [],
   "source": [
    "import pandas as pd\n",
    "import matplotlib.pyplot as plt"
   ]
  },
  {
   "cell_type": "code",
   "execution_count": 21,
   "id": "0cc2fea2",
   "metadata": {},
   "outputs": [],
   "source": [
    "# Load dataset\n",
    "df = pd.read_csv(\"amazon_reviews.csv\")"
   ]
  },
  {
   "cell_type": "code",
   "execution_count": 22,
   "id": "f0d95673",
   "metadata": {},
   "outputs": [],
   "source": [
    "# --- 1. Popular products (top 5) ---\n",
    "popular_products = df[\"Product Purchased\"].value_counts().head(5)"
   ]
  },
  {
   "cell_type": "code",
   "execution_count": 23,
   "id": "eed9ec84",
   "metadata": {},
   "outputs": [],
   "source": [
    "# --- 2. Average ratings per product ---\n",
    "avg_ratings = df.groupby(\"Product Purchased\")[\"Rating\"].mean().sort_values(ascending=False).head(5)"
   ]
  },
  {
   "cell_type": "code",
   "execution_count": 24,
   "id": "da621d60",
   "metadata": {},
   "outputs": [],
   "source": [
    "# --- 3. Overall average rating ---\n",
    "overall_avg = df[\"Rating\"].mean()"
   ]
  },
  {
   "cell_type": "code",
   "execution_count": 25,
   "id": "5bca1780",
   "metadata": {},
   "outputs": [],
   "source": [
    "# --- 4. Distribution summary ---\n",
    "rating_counts = df[\"Rating\"].value_counts().sort_index()"
   ]
  },
  {
   "cell_type": "code",
   "execution_count": 26,
   "id": "feddb01b",
   "metadata": {},
   "outputs": [
    {
     "name": "stdout",
     "output_type": "stream",
     "text": [
      "\n",
      "📊 Insights from EDA:\n",
      "----------------------------------------\n",
      "Most Purchased Products:\n",
      " Product Purchased\n",
      "B007WTAJTO    4915\n",
      "Name: count, dtype: int64 \n",
      "\n",
      "Products with Highest Average Ratings:\n",
      " Product Purchased\n",
      "B007WTAJTO    4.587589\n",
      "Name: Rating, dtype: float64 \n",
      "\n",
      "Overall Average Rating: 4.59\n",
      "\n",
      "Ratings Distribution:\n",
      " Rating\n",
      "1     244\n",
      "2      80\n",
      "3     142\n",
      "4     527\n",
      "5    3922\n",
      "Name: count, dtype: int64\n",
      "----------------------------------------\n",
      "✅ Insights generated. Save this output for reporting.\n"
     ]
    }
   ],
   "source": [
    "# Print insights\n",
    "print(\"\\n📊 Insights from EDA:\")\n",
    "print(\"-\" * 40)\n",
    "print(\"Most Purchased Products:\\n\", popular_products, \"\\n\")\n",
    "print(\"Products with Highest Average Ratings:\\n\", avg_ratings, \"\\n\")\n",
    "print(f\"Overall Average Rating: {overall_avg:.2f}\")\n",
    "print(\"\\nRatings Distribution:\\n\", rating_counts)\n",
    "print(\"-\" * 40)\n",
    "print(\"✅ Insights generated. Save this output for reporting.\")"
   ]
  },
  {
   "cell_type": "code",
   "execution_count": 27,
   "id": "007497d7",
   "metadata": {},
   "outputs": [
    {
     "data": {
      "image/png": "[encoded data removed]",
      "text/plain": [
       "<Figure size 800x500 with 1 Axes>"
      ]
     },
     "metadata": {},
     "output_type": "display_data"
    }
   ],
   "source": [
    "# --- PLOTS ---\n",
    "# Plot 1: Top 5 Popular Products\n",
    "plt.figure(figsize=(8,5))\n",
    "popular_products.plot(kind=\"bar\", color=\"skyblue\", edgecolor=\"black\")\n",
    "plt.title(\"Top 5 Most Purchased Products\")\n",
    "plt.xlabel(\"Product\")\n",
    "plt.ylabel(\"Purchase Count\")\n",
    "plt.xticks(rotation=45, ha=\"right\")\n",
    "plt.tight_layout()\n",
    "plt.savefig(\"popular_products.png\")\n",
    "plt.show()"
   ]
  },
  {
   "cell_type": "code",
   "execution_count": 28,
   "id": "03b12629",
   "metadata": {},
   "outputs": [
    {
     "data": {
      "image/png": "[encoded data removed]",
      "text/plain": [
       "<Figure size 800x500 with 1 Axes>"
      ]
     },
     "metadata": {},
     "output_type": "display_data"
    }
   ],
   "source": [
    "# Plot 2: Top 5 Products by Average Rating\n",
    "plt.figure(figsize=(8,5))\n",
    "avg_ratings.plot(kind=\"bar\", color=\"lightgreen\", edgecolor=\"black\")\n",
    "plt.title(\"Top 5 Products by Average Rating\")\n",
    "plt.xlabel(\"Product\")\n",
    "plt.ylabel(\"Average Rating\")\n",
    "plt.xticks(rotation=45, ha=\"right\")\n",
    "plt.ylim(0, 5)   # ratings are 1–5\n",
    "plt.tight_layout()\n",
    "plt.savefig(\"top_rated_products.png\")\n",
    "plt.show()"
   ]
  },
  {
   "cell_type": "code",
   "execution_count": 29,
   "id": "5294d506",
   "metadata": {},
   "outputs": [
    {
     "data": {
      "image/png": "[encoded data removed]",
      "text/plain": [
       "<Figure size 600x400 with 1 Axes>"
      ]
     },
     "metadata": {},
     "output_type": "display_data"
    },
    {
     "name": "stdout",
     "output_type": "stream",
     "text": [
      "✅ Saved plots: popular_products.png, top_rated_products.png, rating_distribution.png\n"
     ]
    }
   ],
   "source": [
    "# Plot 3: Rating Distribution\n",
    "plt.figure(figsize=(6,4))\n",
    "rating_counts.plot(kind=\"bar\", color=\"salmon\", edgecolor=\"black\")\n",
    "plt.title(\"Ratings Distribution\")\n",
    "plt.xlabel(\"Rating\")\n",
    "plt.ylabel(\"Count\")\n",
    "plt.xticks(rotation=0)\n",
    "plt.tight_layout()\n",
    "plt.savefig(\"rating_distribution.png\")\n",
    "plt.show()\n",
    "\n",
    "print(\"✅ Saved plots: popular_products.png, top_rated_products.png, rating_distribution.png\")"
   ]
  },
  {
   "cell_type": "code",
   "execution_count": null,
   "id": "5263113c",
   "metadata": {},
   "outputs": [],
   "source": []
  }
 ],
 "metadata": {
  "kernelspec": {
   "display_name": "Python 3",
   "language": "python",
   "name": "python3"
  },
  "language_info": {
   "codemirror_mode": {
    "name": "ipython",
    "version": 3
   },
   "file_extension": ".py",
   "mimetype": "text/x-python",
   "name": "python",
   "nbconvert_exporter": "python",
   "pygments_lexer": "ipython3",
   "version": "3.11.9"
  }
 },
 "nbformat": 4,
 "nbformat_minor": 5
}
